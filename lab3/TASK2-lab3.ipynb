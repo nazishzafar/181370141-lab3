{
 "cells": [
  {
   "cell_type": "code",
   "execution_count": 1,
   "metadata": {},
   "outputs": [
    {
     "name": "stdout",
     "output_type": "stream",
     "text": [
      "Enter message: hello\n",
      "..... . .-.. .-.. --- \n"
     ]
    }
   ],
   "source": [
    "code={',':'--..--','.':'.-.-.-','?':'..--..','0':'-----','1':'.----','2':'..---',\n",
    "     '3':'...--','4':'....-','5':'.....','6':'-....','7':'--...','8':'---..','9':'----.','A':'.-'\n",
    "      ,'B':'-...','C':'-.-.','D':'-..','E':'.','F':'..-.','G':'--.','H':'.....','I':'..',\n",
    "      'J':'.----','K':'-.-','L':'.-..','M':'..','N':'-.','O':'---','P':'.--.',\n",
    "     'Q':'--.-','R':'.-.','S':'...','T':'-','U':'...','V':'...-','W':'.--','X':'-..-','Y':'-.-','Z':'--..'}\n",
    "message=input(\"Enter message: \").upper()\n",
    "def morse_code(message):\n",
    "    convert=''\n",
    "    for i in message:\n",
    "        if i !=' ':\n",
    "            convert+=code[i]+' '\n",
    "        else:\n",
    "            convert+=' '\n",
    "    print(convert)\n",
    "morse_code(message)"
   ]
  },
  {
   "cell_type": "code",
   "execution_count": null,
   "metadata": {},
   "outputs": [],
   "source": []
  }
 ],
 "metadata": {
  "kernelspec": {
   "display_name": "Python 3",
   "language": "python",
   "name": "python3"
  },
  "language_info": {
   "codemirror_mode": {
    "name": "ipython",
    "version": 3
   },
   "file_extension": ".py",
   "mimetype": "text/x-python",
   "name": "python",
   "nbconvert_exporter": "python",
   "pygments_lexer": "ipython3",
   "version": "3.7.6"
  }
 },
 "nbformat": 4,
 "nbformat_minor": 4
}
