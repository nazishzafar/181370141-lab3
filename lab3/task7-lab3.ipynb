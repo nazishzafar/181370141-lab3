{
 "cells": [
  {
   "cell_type": "code",
   "execution_count": 14,
   "metadata": {},
   "outputs": [
    {
     "name": "stdout",
     "output_type": "stream",
     "text": [
      "Enter a sentence: hey i slept yesterday\n",
      "eyhay iay leptsay esterdayyay\n"
     ]
    }
   ],
   "source": [
    "sentence = input(\"Enter a sentence: \").lower()\n",
    "sentence = sentence.split()\n",
    "new_sentence = []\n",
    "\n",
    "for i in sentence:\n",
    "    word = i[1:] + i[0] + \"ay\"\n",
    "    new_sentence.append(word)\n",
    "new_sentence = \" \".join(new_sentence)\n",
    "print(new_sentence)"
   ]
  },
  {
   "cell_type": "code",
   "execution_count": null,
   "metadata": {},
   "outputs": [],
   "source": []
  }
 ],
 "metadata": {
  "kernelspec": {
   "display_name": "Python 3",
   "language": "python",
   "name": "python3"
  },
  "language_info": {
   "codemirror_mode": {
    "name": "ipython",
    "version": 3
   },
   "file_extension": ".py",
   "mimetype": "text/x-python",
   "name": "python",
   "nbconvert_exporter": "python",
   "pygments_lexer": "ipython3",
   "version": "3.7.6"
  }
 },
 "nbformat": 4,
 "nbformat_minor": 4
}
