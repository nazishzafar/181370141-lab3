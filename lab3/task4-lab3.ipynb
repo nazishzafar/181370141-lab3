{
 "cells": [
  {
   "cell_type": "code",
   "execution_count": 1,
   "metadata": {},
   "outputs": [
    {
     "name": "stdout",
     "output_type": "stream",
     "text": [
      "Enter a number in the format of XXX-XXX-XXXX: 555-get-food\n",
      "555-438-3663"
     ]
    }
   ],
   "source": [
    "number=input(\"Enter a number in the format of XXX-XXX-XXXX: \").upper()\n",
    "#code={'A,B,C':'2','D,E,F':'3','G,H,I':'4','J,K,L':'5','M,N,O':'6','P,Q,R,S':'7','T,U,V':'8','W,X,YZ':'9'}\n",
    "code={'A':'2','B':'2','C':'2','D':'3','E':'3','F':'3','G':'4','H':'4','I':'4','J':'5','K':'5','L':'5',\n",
    "      'M':'6','N':'6','O':'6','P':'7','Q':'7','R':'7','S':'7','T':'8','U':'8','V':'8',\n",
    "      'W':'9','X':'9','Y':'9','Z':'9'}\n",
    "for i in number:\n",
    "    convert=''\n",
    "    if(i.isdigit()or i=='-'):\n",
    "        convert+=i\n",
    "    else:\n",
    "         convert+=code[i]\n",
    "    print(convert,end='')"
   ]
  },
  {
   "cell_type": "code",
   "execution_count": null,
   "metadata": {},
   "outputs": [],
   "source": []
  }
 ],
 "metadata": {
  "kernelspec": {
   "display_name": "Python 3",
   "language": "python",
   "name": "python3"
  },
  "language_info": {
   "codemirror_mode": {
    "name": "ipython",
    "version": 3
   },
   "file_extension": ".py",
   "mimetype": "text/x-python",
   "name": "python",
   "nbconvert_exporter": "python",
   "pygments_lexer": "ipython3",
   "version": "3.7.6"
  }
 },
 "nbformat": 4,
 "nbformat_minor": 4
}
