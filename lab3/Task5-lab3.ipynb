{
 "cells": [
  {
   "cell_type": "code",
   "execution_count": 2,
   "metadata": {},
   "outputs": [
    {
     "name": "stdout",
     "output_type": "stream",
     "text": [
      "Enter a password with atleast one lowercase,one uppercase,one digit and one special letter : Hitm@n123\n",
      "Valid Password\n"
     ]
    }
   ],
   "source": [
    "password=input(\"Enter a password with atleast one lowercase,one uppercase,one digit and one special letter : \")\n",
    "\n",
    "def isValid(password):\n",
    "    lowercase,uppercase,digitcase,character=0,0,0,0\n",
    "    for i in password:\n",
    "        if(i.islower()):\n",
    "            lowercase+=1\n",
    "        elif(i.isupper()):\n",
    "            uppercase+=1\n",
    "        elif(i.isalnum()):\n",
    "            digitcase+=1\n",
    "        elif(ord(i) in range(32,65)):\n",
    "            character+=1\n",
    "    if (lowercase>=1 and uppercase>=1 and digitcase>=1 and character>=1):\n",
    "        print(\"Valid Password\")\n",
    "    else:\n",
    "        print(\"in valid Passowrd \")\n",
    "isValid(password)\n",
    "        "
   ]
  },
  {
   "cell_type": "code",
   "execution_count": null,
   "metadata": {},
   "outputs": [],
   "source": []
  },
  {
   "cell_type": "code",
   "execution_count": null,
   "metadata": {},
   "outputs": [],
   "source": []
  }
 ],
 "metadata": {
  "kernelspec": {
   "display_name": "Python 3",
   "language": "python",
   "name": "python3"
  },
  "language_info": {
   "codemirror_mode": {
    "name": "ipython",
    "version": 3
   },
   "file_extension": ".py",
   "mimetype": "text/x-python",
   "name": "python",
   "nbconvert_exporter": "python",
   "pygments_lexer": "ipython3",
   "version": "3.7.6"
  }
 },
 "nbformat": 4,
 "nbformat_minor": 4
}
